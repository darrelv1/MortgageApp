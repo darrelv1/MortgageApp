{
 "cells": [
  {
   "cell_type": "code",
   "execution_count": null,
   "outputs": [],
   "source": [
    "import pandas as pd\n",
    "import numpy as np\n"
   ],
   "metadata": {
    "collapsed": false
   }
  },
  {
   "cell_type": "code",
   "execution_count": null,
   "outputs": [],
   "source": [],
   "metadata": {
    "collapsed": false
   }
  },
  {
   "cell_type": "code",
   "execution_count": 19,
   "outputs": [],
   "source": [
    "import pandas as pd\n",
    "class User:\n",
    "    def __init__(self, name):\n",
    "        self.name = name\n",
    "        self.investor = \"\"\n",
    "        self.ownership = 0.3333\n",
    "        self._table = pd.DataFrame({\n",
    "            \"Date\" : \"\"\n",
    "            ,\"Debit\": 0.00\n",
    "            ,\"Credit\": 0.00\n",
    "            ,\"Balance\":0.00\n",
    "            ,\"Description\":\"\"\n",
    "        }, index= [0])\n",
    "\n",
    "    @property\n",
    "    def table(self):\n",
    "        return self._table\n",
    "\n",
    "    @table.setter\n",
    "    def table(self, row):\n",
    "\n",
    "        # try:\n",
    "        if len(row) == (len(self._table.columns)-2):\n",
    "            \"\"\"\n",
    "            Adjusting the row\n",
    "            \"\"\"\n",
    "            prevBal = self._table.loc[len(self._table.index)-1, \"Balance\"] if len(self._table.index) != 0 else 0.00\n",
    "            futureBal= prevBal + row[1]\n",
    "            print(f\"prev {self._table.loc[len(self._table.index)-1, 'Balance']}\")\n",
    "            print(f\"table length {len(self._table.index)}\")\n",
    "            print(f\"row {row[1]}\")\n",
    "            print(f\"prev {prevBal}\")\n",
    "            print(f\"futureBal {futureBal}\")\n",
    "            print(\"********************************************\")\n",
    "            row.insert(2, 0.00) if row[1] > 0.00 else row.insert(1, 0.00)\n",
    "            row.insert(3, futureBal)\n",
    "            print(f\"row: {row}\")\n",
    "            \"\"\"\n",
    "            Adding the row\n",
    "            \"\"\"\n",
    "            self._table.loc[len(self._table.index)] = row\n",
    "        else:\n",
    "            print(\"Array must have 5 items, Date, Debit, Credit, Balance and a Description!\")\n",
    "        # except TypeError:\n",
    "        #     print(\"Must be an List or Array type\")\n",
    "        # except:\n",
    "        #     print(\"Something else went wrong please review the Call Stack\")\n",
    "    @table.deleter\n",
    "    def table():\n",
    "        del self._table\n",
    "\n",
    "    def deleteRow(self, index):\n",
    "        self._table.drop(index)\n",
    "\n",
    "\n",
    "\n"
   ],
   "metadata": {
    "collapsed": false
   }
  },
  {
   "cell_type": "code",
   "execution_count": null,
   "outputs": [],
   "source": [],
   "metadata": {
    "collapsed": false
   }
  },
  {
   "cell_type": "code",
   "execution_count": null,
   "outputs": [],
   "source": [
    "import datetime\n",
    "Darrel = User(\"Darrel\")\n",
    "now = datetime.date.today()\n",
    "#Darrel._table = \"print\"\n",
    "#Darrel._table = [now,-350,\"This is great\"]\n",
    "#Darrel.table([now,-350,\"This is great\"])\n",
    "Darrel.table\n",
    "Darrel.table = [now,-350,\"This is great\"]\n",
    "Darrel.table = [now,250,\"This is great\"]\n",
    "Darrel.table = [now,250,\"This is great\"]\n",
    "Darrel.table"
   ],
   "metadata": {
    "collapsed": false
   }
  },
  {
   "cell_type": "code",
   "execution_count": null,
   "outputs": [],
   "source": [
    "import datetime\n",
    "now = datetime.date.today()\n",
    "Claudia.table = [now,-350,\"This is great\"]"
   ],
   "metadata": {
    "collapsed": false
   }
  },
  {
   "cell_type": "code",
   "execution_count": null,
   "outputs": [],
   "source": [
    "import datetime\n",
    "table = pd.DataFrame(columns=['Date'\n",
    "                                          ,'Debit'\n",
    "                                          ,'Credit'\n",
    "                                          ,'Balance',\n",
    "                                           'Description'])"
   ],
   "metadata": {
    "collapsed": false
   }
  },
  {
   "cell_type": "code",
   "execution_count": null,
   "outputs": [],
   "source": [
    "import datetime\n",
    "table.loc[len(table.index)] = [datetime.date.today(), 20.00, 40.00, 50.00,\"great\"]"
   ],
   "metadata": {
    "collapsed": false
   }
  },
  {
   "cell_type": "code",
   "execution_count": null,
   "outputs": [],
   "source": [
    "len(table.index)"
   ],
   "metadata": {
    "collapsed": false
   }
  },
  {
   "cell_type": "code",
   "execution_count": null,
   "outputs": [],
   "source": [
    "Claudia._table.columns"
   ],
   "metadata": {
    "collapsed": false
   }
  },
  {
   "cell_type": "code",
   "execution_count": null,
   "outputs": [],
   "source": [
    "Claudia.table.columns"
   ],
   "metadata": {
    "collapsed": false
   }
  },
  {
   "cell_type": "code",
   "execution_count": null,
   "outputs": [],
   "source": [
    "a.insert(2, 3)"
   ],
   "metadata": {
    "collapsed": false
   }
  },
  {
   "cell_type": "code",
   "execution_count": null,
   "outputs": [],
   "source": [
    "a"
   ],
   "metadata": {
    "collapsed": false
   }
  },
  {
   "cell_type": "code",
   "execution_count": null,
   "outputs": [],
   "source": [
    "table"
   ],
   "metadata": {
    "collapsed": false
   }
  },
  {
   "cell_type": "code",
   "execution_count": null,
   "outputs": [],
   "source": [
    "table = pd.DataFrame(columns=['Date'\n",
    "                                          ,'Debit'\n",
    "                                          ,'Credit'\n",
    "                                          ,'Balance',\n",
    "                                           'Description'])"
   ],
   "metadata": {
    "collapsed": false
   }
  },
  {
   "cell_type": "code",
   "execution_count": null,
   "outputs": [],
   "source": [
    "len(table.index)"
   ],
   "metadata": {
    "collapsed": false
   }
  },
  {
   "cell_type": "code",
   "execution_count": null,
   "outputs": [],
   "source": [
    "table.loc[len(table.index), \"Balance\"] if len(table.index) == 0 else 0.00"
   ],
   "metadata": {
    "collapsed": false
   }
  },
  {
   "cell_type": "code",
   "execution_count": null,
   "outputs": [],
   "source": [
    "table.loc[len(table.index), \"Balance\"] if len(table.index) == 0 else 0.0"
   ],
   "metadata": {
    "collapsed": false
   }
  },
  {
   "cell_type": "code",
   "execution_count": null,
   "outputs": [],
   "source": [
    "def sample(*args):\n",
    "    for key,value in args:\n",
    "        print(key)\n",
    "        print(value)"
   ],
   "metadata": {
    "collapsed": false
   }
  },
  {
   "cell_type": "code",
   "execution_count": null,
   "outputs": [],
   "source": [
    "sample((\"Darrel\",0.25), (\"Tony\", 0.35))"
   ],
   "metadata": {
    "collapsed": false
   }
  },
  {
   "cell_type": "code",
   "execution_count": null,
   "outputs": [],
   "source": [
    "annoymous = lambda para : print(para)"
   ],
   "metadata": {
    "collapsed": false
   }
  },
  {
   "cell_type": "code",
   "execution_count": null,
   "outputs": [],
   "source": [
    "annoymous(\"THis is a test\")"
   ],
   "metadata": {
    "collapsed": false
   }
  },
  {
   "cell_type": "code",
   "execution_count": 318,
   "outputs": [],
   "source": [
    "import pandas as pd\n",
    "import numpy as np\n",
    "import functools\n",
    "import itertools\n",
    "\n",
    "from abc import ABC, abstractmethod\n",
    "\n",
    "\n",
    "import pandas as pd\n",
    "import numpy as np\n",
    "\n",
    "\n",
    "class Profile(ABC):\n",
    "    def __init__(self):\n",
    "        pass\n",
    "\n",
    "    def __iter__(self):\n",
    "        return self\n",
    "\n",
    "    def __next__(self):\n",
    "        pass\n",
    "\n",
    "    @abstractmethod\n",
    "    def showAccount(self):\n",
    "        pass\n",
    "\n",
    "\n",
    "class BarberOwner(Profile):\n",
    "    def __init__(self, name):\n",
    "        super().__init__()\n",
    "        self.name = name\n",
    "\n",
    "class Investor(Profile):\n",
    "    def __init__(self, name, rate):\n",
    "        super().__init__()\n",
    "        self.name = name\n",
    "        self.account = InvestorAccount(name, rate)\n",
    "        self._balance = 0.00\n",
    "        self.a = 0\n",
    "\n",
    "    # def __iter__(self):\n",
    "    #      return self\n",
    "    #\n",
    "    # def __next__(self):\n",
    "    #     if self.a <= 20:\n",
    "    #       x = self.a\n",
    "    #       self.a += 1\n",
    "    #       return x\n",
    "    #     else:\n",
    "    #       raise StopIteration\n",
    "\n",
    "    def showAccount(self):\n",
    "        print(self.account.table)\n",
    "\n",
    "\n",
    "    @property\n",
    "    def balance(self):\n",
    "        return self.account.balance\n",
    "\n",
    "class Account:\n",
    "    def __init__(self):\n",
    "        self._table = pd.DataFrame({\n",
    "            \"Date\": \"\"\n",
    "            , \"Debit\": 0.00\n",
    "            , \"Credit\": 0.00\n",
    "            , \"Balance\": 0.00\n",
    "            , \"Description\": \"\"\n",
    "        }, index=[0])\n",
    "        self.tableLength = len(self._table.index)\n",
    "        self._balance = 0.00\n",
    "\n",
    "    @property\n",
    "    def table(self):\n",
    "        return self._table\n",
    "\n",
    "    @property\n",
    "    def balance(self):\n",
    "        return self._balance\n",
    "\n",
    "    @table.setter\n",
    "    def table(self, row):\n",
    "\n",
    "        # try:\n",
    "        if len(row) == (len(self._table.columns) - 2):\n",
    "            \"\"\"\n",
    "            Adjusting the row\n",
    "            \"\"\"\n",
    "            prevBal = self._table.loc[len(self._table.index) - 1, \"Balance\"] if len(self._table.index) != 0 else 0.00\n",
    "            futureBal = prevBal + row[1]\n",
    "            row.insert(2, 0.00) if row[1] > 0.00 else row.insert(1, 0.00)\n",
    "            row.insert(3, futureBal)\n",
    "\n",
    "            \"\"\"\n",
    "            Adding the row\n",
    "            \"\"\"\n",
    "            self._table.loc[len(self._table.index)] = row\n",
    "            self._balance = self.table.loc[self.tableLength, \"Balance\"]\n",
    "        else:\n",
    "            print(\"Array must have 5 items, Date, Debit, Credit, Balance and a Description!\")\n",
    "        # except TypeError:\n",
    "        #     print(\"Must be an List or Array type\")\n",
    "        # except:\n",
    "        #     print(\"Something else went wrong please review the Call Stack\")\n",
    "\n",
    "    @table.deleter\n",
    "    def table(self):\n",
    "        del self._table\n",
    "\n",
    "    def deleteRow(self, index):\n",
    "        self._table.drop(index)\n",
    "\n",
    "\n",
    "class InvestorAccount(Account):\n",
    "    def __init__(self, name, rate):\n",
    "        self.investor = name\n",
    "        self.ownership = rate\n",
    "        super().__init__()\n",
    "\n",
    "\n",
    "\"\"\"\n",
    "All Transactions will be posted here\n",
    "This obj will action the transacton split\n",
    "\"\"\"\n",
    "\n",
    "\n",
    "class GeneralLedger(Account):\n",
    "    def __init__(self):\n",
    "        super().__init__()\n",
    "        self.identity = \"General Ledger Account for all Inventory\"\n",
    "        self.investors = []\n",
    "\n",
    "    def addInvestors(self, *args):\n",
    "        for investor in args:\n",
    "            self.investors.append(investor)\n",
    "\n",
    "    def postEntry(self, entry):\n",
    "        self.table = entry\n",
    "\n",
    "    # for the use to assign values to properties of table\n",
    "    @classmethod\n",
    "    def assignment(self, obj, value):\n",
    "        obj.account.table = value\n",
    "        print(value)\n",
    "\n",
    "\n",
    "\n",
    "    def postSplit(self, entry):\n",
    "        # modify the amount to match the split and give everyone their share\n",
    "        split_amount = lambda amount, rate: amount * rate\n",
    "\n",
    "        result = list(map(lambda inv: GeneralLedger.assignment(inv,\n",
    "                                         [entry[0], split_amount(entry[1],\n",
    "                                          inv.account.ownership),\n",
    "                                          entry[2]]), self.investors))\n",
    "        return result\n",
    "\n",
    "    def displayInvestors(self):\n",
    "        a = list(map(lambda i: display(i.account.table), self.investors))\n",
    "        return a\n"
   ],
   "metadata": {
    "collapsed": false
   }
  },
  {
   "cell_type": "code",
   "execution_count": 319,
   "outputs": [],
   "source": [
    "Darrel = Investor(\"Charles\", .25)\n",
    "Claudia = Investor(\"Charles\", .38)\n",
    "Tony = Investor(\"Charles\", .35)\n"
   ],
   "metadata": {
    "collapsed": false
   }
  },
  {
   "cell_type": "code",
   "execution_count": 320,
   "outputs": [
    {
     "data": {
      "text/plain": "  Date  Debit  Credit  Balance Description\n0         0.0     0.0      0.0            ",
      "text/html": "<div>\n<style scoped>\n    .dataframe tbody tr th:only-of-type {\n        vertical-align: middle;\n    }\n\n    .dataframe tbody tr th {\n        vertical-align: top;\n    }\n\n    .dataframe thead th {\n        text-align: right;\n    }\n</style>\n<table border=\"1\" class=\"dataframe\">\n  <thead>\n    <tr style=\"text-align: right;\">\n      <th></th>\n      <th>Date</th>\n      <th>Debit</th>\n      <th>Credit</th>\n      <th>Balance</th>\n      <th>Description</th>\n    </tr>\n  </thead>\n  <tbody>\n    <tr>\n      <th>0</th>\n      <td></td>\n      <td>0.0</td>\n      <td>0.0</td>\n      <td>0.0</td>\n      <td></td>\n    </tr>\n  </tbody>\n</table>\n</div>"
     },
     "execution_count": 320,
     "metadata": {},
     "output_type": "execute_result"
    }
   ],
   "source": [
    "Darrel.account.table"
   ],
   "metadata": {
    "collapsed": false
   }
  },
  {
   "cell_type": "code",
   "execution_count": 321,
   "outputs": [],
   "source": [
    "MainBank = GeneralLedger()\n"
   ],
   "metadata": {
    "collapsed": false
   }
  },
  {
   "cell_type": "code",
   "execution_count": 322,
   "outputs": [],
   "source": [
    "MainBank.addInvestors(Darrel, Claudia, Tony)"
   ],
   "metadata": {
    "collapsed": false
   }
  },
  {
   "cell_type": "code",
   "execution_count": 322,
   "outputs": [],
   "source": [],
   "metadata": {
    "collapsed": false
   }
  },
  {
   "cell_type": "code",
   "execution_count": 323,
   "outputs": [
    {
     "name": "stdout",
     "output_type": "stream",
     "text": [
      "['today', 62.5, 0.0, 62.5, 'this is a test']\n",
      "['today', 95.0, 0.0, 95.0, 'this is a test']\n",
      "['today', 87.5, 0.0, 87.5, 'this is a test']\n"
     ]
    },
    {
     "data": {
      "text/plain": "[None, None, None]"
     },
     "execution_count": 323,
     "metadata": {},
     "output_type": "execute_result"
    }
   ],
   "source": [
    "MainBank.postSplit([\"today\",250.00,\"this is a test\"])"
   ],
   "metadata": {
    "collapsed": false
   }
  },
  {
   "cell_type": "markdown",
   "source": [],
   "metadata": {
    "collapsed": false
   }
  },
  {
   "cell_type": "code",
   "execution_count": 324,
   "outputs": [
    {
     "data": {
      "text/plain": "    Date  Debit  Credit  Balance     Description\n0           0.0     0.0      0.0                \n1  today   95.0     0.0     95.0  this is a test",
      "text/html": "<div>\n<style scoped>\n    .dataframe tbody tr th:only-of-type {\n        vertical-align: middle;\n    }\n\n    .dataframe tbody tr th {\n        vertical-align: top;\n    }\n\n    .dataframe thead th {\n        text-align: right;\n    }\n</style>\n<table border=\"1\" class=\"dataframe\">\n  <thead>\n    <tr style=\"text-align: right;\">\n      <th></th>\n      <th>Date</th>\n      <th>Debit</th>\n      <th>Credit</th>\n      <th>Balance</th>\n      <th>Description</th>\n    </tr>\n  </thead>\n  <tbody>\n    <tr>\n      <th>0</th>\n      <td></td>\n      <td>0.0</td>\n      <td>0.0</td>\n      <td>0.0</td>\n      <td></td>\n    </tr>\n    <tr>\n      <th>1</th>\n      <td>today</td>\n      <td>95.0</td>\n      <td>0.0</td>\n      <td>95.0</td>\n      <td>this is a test</td>\n    </tr>\n  </tbody>\n</table>\n</div>"
     },
     "execution_count": 324,
     "metadata": {},
     "output_type": "execute_result"
    }
   ],
   "source": [
    "MainBank.investors[1].account.table"
   ],
   "metadata": {
    "collapsed": false
   }
  },
  {
   "cell_type": "code",
   "execution_count": 325,
   "outputs": [
    {
     "name": "stdout",
     "output_type": "stream",
     "text": [
      "['Darrel Test', 1980.0, 0.0, 2067.5, 'Deposit of money ']\n"
     ]
    }
   ],
   "source": [
    "MainBank.assignment(Tony,[\"Darrel Test\",1980.00,\"Deposit of money \"])"
   ],
   "metadata": {
    "collapsed": false
   }
  },
  {
   "cell_type": "code",
   "execution_count": 326,
   "outputs": [
    {
     "data": {
      "text/plain": "          Date   Debit  Credit  Balance        Description\n0                  0.0     0.0      0.0                   \n1        today    87.5     0.0     87.5     this is a test\n2  Darrel Test  1980.0     0.0   2067.5  Deposit of money ",
      "text/html": "<div>\n<style scoped>\n    .dataframe tbody tr th:only-of-type {\n        vertical-align: middle;\n    }\n\n    .dataframe tbody tr th {\n        vertical-align: top;\n    }\n\n    .dataframe thead th {\n        text-align: right;\n    }\n</style>\n<table border=\"1\" class=\"dataframe\">\n  <thead>\n    <tr style=\"text-align: right;\">\n      <th></th>\n      <th>Date</th>\n      <th>Debit</th>\n      <th>Credit</th>\n      <th>Balance</th>\n      <th>Description</th>\n    </tr>\n  </thead>\n  <tbody>\n    <tr>\n      <th>0</th>\n      <td></td>\n      <td>0.0</td>\n      <td>0.0</td>\n      <td>0.0</td>\n      <td></td>\n    </tr>\n    <tr>\n      <th>1</th>\n      <td>today</td>\n      <td>87.5</td>\n      <td>0.0</td>\n      <td>87.5</td>\n      <td>this is a test</td>\n    </tr>\n    <tr>\n      <th>2</th>\n      <td>Darrel Test</td>\n      <td>1980.0</td>\n      <td>0.0</td>\n      <td>2067.5</td>\n      <td>Deposit of money</td>\n    </tr>\n  </tbody>\n</table>\n</div>"
     },
     "metadata": {},
     "output_type": "display_data"
    }
   ],
   "source": [
    "display(Tony.account.table)"
   ],
   "metadata": {
    "collapsed": false
   }
  },
  {
   "cell_type": "code",
   "execution_count": 327,
   "outputs": [
    {
     "data": {
      "text/plain": "    Date  Debit  Credit  Balance     Description\n0           0.0     0.0      0.0                \n1  today   62.5     0.0     62.5  this is a test",
      "text/html": "<div>\n<style scoped>\n    .dataframe tbody tr th:only-of-type {\n        vertical-align: middle;\n    }\n\n    .dataframe tbody tr th {\n        vertical-align: top;\n    }\n\n    .dataframe thead th {\n        text-align: right;\n    }\n</style>\n<table border=\"1\" class=\"dataframe\">\n  <thead>\n    <tr style=\"text-align: right;\">\n      <th></th>\n      <th>Date</th>\n      <th>Debit</th>\n      <th>Credit</th>\n      <th>Balance</th>\n      <th>Description</th>\n    </tr>\n  </thead>\n  <tbody>\n    <tr>\n      <th>0</th>\n      <td></td>\n      <td>0.0</td>\n      <td>0.0</td>\n      <td>0.0</td>\n      <td></td>\n    </tr>\n    <tr>\n      <th>1</th>\n      <td>today</td>\n      <td>62.5</td>\n      <td>0.0</td>\n      <td>62.5</td>\n      <td>this is a test</td>\n    </tr>\n  </tbody>\n</table>\n</div>"
     },
     "execution_count": 327,
     "metadata": {},
     "output_type": "execute_result"
    }
   ],
   "source": [
    "Darrel.account.table"
   ],
   "metadata": {
    "collapsed": false
   }
  },
  {
   "cell_type": "code",
   "execution_count": 328,
   "outputs": [
    {
     "data": {
      "text/plain": "    Date  Debit  Credit  Balance     Description\n0           0.0     0.0      0.0                \n1  today   95.0     0.0     95.0  this is a test",
      "text/html": "<div>\n<style scoped>\n    .dataframe tbody tr th:only-of-type {\n        vertical-align: middle;\n    }\n\n    .dataframe tbody tr th {\n        vertical-align: top;\n    }\n\n    .dataframe thead th {\n        text-align: right;\n    }\n</style>\n<table border=\"1\" class=\"dataframe\">\n  <thead>\n    <tr style=\"text-align: right;\">\n      <th></th>\n      <th>Date</th>\n      <th>Debit</th>\n      <th>Credit</th>\n      <th>Balance</th>\n      <th>Description</th>\n    </tr>\n  </thead>\n  <tbody>\n    <tr>\n      <th>0</th>\n      <td></td>\n      <td>0.0</td>\n      <td>0.0</td>\n      <td>0.0</td>\n      <td></td>\n    </tr>\n    <tr>\n      <th>1</th>\n      <td>today</td>\n      <td>95.0</td>\n      <td>0.0</td>\n      <td>95.0</td>\n      <td>this is a test</td>\n    </tr>\n  </tbody>\n</table>\n</div>"
     },
     "execution_count": 328,
     "metadata": {},
     "output_type": "execute_result"
    }
   ],
   "source": [
    "Claudia.account.table"
   ],
   "metadata": {
    "collapsed": false
   }
  },
  {
   "cell_type": "code",
   "execution_count": 329,
   "outputs": [
    {
     "data": {
      "text/plain": "    Date  Debit  Credit  Balance     Description\n0           0.0     0.0      0.0                \n1  today   62.5     0.0     62.5  this is a test",
      "text/html": "<div>\n<style scoped>\n    .dataframe tbody tr th:only-of-type {\n        vertical-align: middle;\n    }\n\n    .dataframe tbody tr th {\n        vertical-align: top;\n    }\n\n    .dataframe thead th {\n        text-align: right;\n    }\n</style>\n<table border=\"1\" class=\"dataframe\">\n  <thead>\n    <tr style=\"text-align: right;\">\n      <th></th>\n      <th>Date</th>\n      <th>Debit</th>\n      <th>Credit</th>\n      <th>Balance</th>\n      <th>Description</th>\n    </tr>\n  </thead>\n  <tbody>\n    <tr>\n      <th>0</th>\n      <td></td>\n      <td>0.0</td>\n      <td>0.0</td>\n      <td>0.0</td>\n      <td></td>\n    </tr>\n    <tr>\n      <th>1</th>\n      <td>today</td>\n      <td>62.5</td>\n      <td>0.0</td>\n      <td>62.5</td>\n      <td>this is a test</td>\n    </tr>\n  </tbody>\n</table>\n</div>"
     },
     "metadata": {},
     "output_type": "display_data"
    },
    {
     "data": {
      "text/plain": "    Date  Debit  Credit  Balance     Description\n0           0.0     0.0      0.0                \n1  today   95.0     0.0     95.0  this is a test",
      "text/html": "<div>\n<style scoped>\n    .dataframe tbody tr th:only-of-type {\n        vertical-align: middle;\n    }\n\n    .dataframe tbody tr th {\n        vertical-align: top;\n    }\n\n    .dataframe thead th {\n        text-align: right;\n    }\n</style>\n<table border=\"1\" class=\"dataframe\">\n  <thead>\n    <tr style=\"text-align: right;\">\n      <th></th>\n      <th>Date</th>\n      <th>Debit</th>\n      <th>Credit</th>\n      <th>Balance</th>\n      <th>Description</th>\n    </tr>\n  </thead>\n  <tbody>\n    <tr>\n      <th>0</th>\n      <td></td>\n      <td>0.0</td>\n      <td>0.0</td>\n      <td>0.0</td>\n      <td></td>\n    </tr>\n    <tr>\n      <th>1</th>\n      <td>today</td>\n      <td>95.0</td>\n      <td>0.0</td>\n      <td>95.0</td>\n      <td>this is a test</td>\n    </tr>\n  </tbody>\n</table>\n</div>"
     },
     "metadata": {},
     "output_type": "display_data"
    },
    {
     "data": {
      "text/plain": "          Date   Debit  Credit  Balance        Description\n0                  0.0     0.0      0.0                   \n1        today    87.5     0.0     87.5     this is a test\n2  Darrel Test  1980.0     0.0   2067.5  Deposit of money ",
      "text/html": "<div>\n<style scoped>\n    .dataframe tbody tr th:only-of-type {\n        vertical-align: middle;\n    }\n\n    .dataframe tbody tr th {\n        vertical-align: top;\n    }\n\n    .dataframe thead th {\n        text-align: right;\n    }\n</style>\n<table border=\"1\" class=\"dataframe\">\n  <thead>\n    <tr style=\"text-align: right;\">\n      <th></th>\n      <th>Date</th>\n      <th>Debit</th>\n      <th>Credit</th>\n      <th>Balance</th>\n      <th>Description</th>\n    </tr>\n  </thead>\n  <tbody>\n    <tr>\n      <th>0</th>\n      <td></td>\n      <td>0.0</td>\n      <td>0.0</td>\n      <td>0.0</td>\n      <td></td>\n    </tr>\n    <tr>\n      <th>1</th>\n      <td>today</td>\n      <td>87.5</td>\n      <td>0.0</td>\n      <td>87.5</td>\n      <td>this is a test</td>\n    </tr>\n    <tr>\n      <th>2</th>\n      <td>Darrel Test</td>\n      <td>1980.0</td>\n      <td>0.0</td>\n      <td>2067.5</td>\n      <td>Deposit of money</td>\n    </tr>\n  </tbody>\n</table>\n</div>"
     },
     "metadata": {},
     "output_type": "display_data"
    },
    {
     "data": {
      "text/plain": "[None, None, None]"
     },
     "execution_count": 329,
     "metadata": {},
     "output_type": "execute_result"
    }
   ],
   "source": [
    "MainBank.displayInvestors()"
   ],
   "metadata": {
    "collapsed": false
   }
  },
  {
   "cell_type": "code",
   "execution_count": 330,
   "outputs": [
    {
     "data": {
      "text/plain": "441.19949999999994"
     },
     "execution_count": 330,
     "metadata": {},
     "output_type": "execute_result"
    }
   ],
   "source": [],
   "metadata": {
    "collapsed": false
   }
  },
  {
   "cell_type": "code",
   "execution_count": null,
   "outputs": [],
   "source": [],
   "metadata": {
    "collapsed": false
   }
  }
 ],
 "metadata": {
  "kernelspec": {
   "display_name": "Python 3",
   "language": "python",
   "name": "python3"
  },
  "language_info": {
   "codemirror_mode": {
    "name": "ipython",
    "version": 2
   },
   "file_extension": ".py",
   "mimetype": "text/x-python",
   "name": "python",
   "nbconvert_exporter": "python",
   "pygments_lexer": "ipython2",
   "version": "2.7.6"
  }
 },
 "nbformat": 4,
 "nbformat_minor": 0
}
