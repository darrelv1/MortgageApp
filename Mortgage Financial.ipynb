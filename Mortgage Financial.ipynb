{
 "cells": [
  {
   "cell_type": "code",
   "execution_count": 6,
   "metadata": {
    "collapsed": true
   },
   "outputs": [],
   "source": [
    "import pandas as pd\n",
    "import numpy as np\n"
   ]
  },
  {
   "cell_type": "code",
   "execution_count": 5,
   "outputs": [
    {
     "data": {
      "text/plain": "Empty DataFrame\nColumns: []\nIndex: []",
      "text/html": "<div>\n<style scoped>\n    .dataframe tbody tr th:only-of-type {\n        vertical-align: middle;\n    }\n\n    .dataframe tbody tr th {\n        vertical-align: top;\n    }\n\n    .dataframe thead th {\n        text-align: right;\n    }\n</style>\n<table border=\"1\" class=\"dataframe\">\n  <thead>\n    <tr style=\"text-align: right;\">\n      <th></th>\n    </tr>\n  </thead>\n  <tbody>\n  </tbody>\n</table>\n</div>"
     },
     "execution_count": 5,
     "metadata": {},
     "output_type": "execute_result"
    }
   ],
   "source": [],
   "metadata": {
    "collapsed": false
   }
  },
  {
   "cell_type": "code",
   "execution_count": 173,
   "outputs": [],
   "source": [
    "import pandas as pd\n",
    "class User:\n",
    "    def __init__(self, name):\n",
    "        self.name = name\n",
    "        self.investor = \"\"\n",
    "        self.ownership = 0.3333\n",
    "        self._table = pd.DataFrame({\n",
    "            \"Date\" : \"\"\n",
    "            ,\"Debit\": 0.00\n",
    "            ,\"Credit\": 0.00\n",
    "            ,\"Balance\":0.00\n",
    "            ,\"Description\":\"\"\n",
    "        }, index= [0])\n",
    "\n",
    "    @property\n",
    "    def table(self):\n",
    "        return self._table\n",
    "\n",
    "    @table.setter\n",
    "    def table(self, row):\n",
    "\n",
    "        # try:\n",
    "        if len(row) == (len(self._table.columns)-2):\n",
    "            \"\"\"\n",
    "            Adjusting the row\n",
    "            \"\"\"\n",
    "            prevBal = self._table.loc[len(self._table.index)-1, \"Balance\"] if len(self._table.index) != 0 else 0.00\n",
    "            futureBal= prevBal + row[1]\n",
    "            print(f\"prev {self._table.loc[len(self._table.index)-1, 'Balance']}\")\n",
    "            print(f\"table length {len(self._table.index)}\")\n",
    "            print(f\"row {row[1]}\")\n",
    "            print(f\"prev {prevBal}\")\n",
    "            print(f\"futureBal {futureBal}\")\n",
    "            print(\"********************************************\")\n",
    "            row.insert(2, 0.00) if row[1] > 0.00 else row.insert(1, 0.00)\n",
    "            row.insert(3, futureBal)\n",
    "            print(f\"row: {row}\")\n",
    "            \"\"\"\n",
    "            Adding the row\n",
    "            \"\"\"\n",
    "            self._table.loc[len(self._table.index)] = row\n",
    "        else:\n",
    "            print(\"Array must have 5 items, Date, Debit, Credit, Balance and a Description!\")\n",
    "        # except TypeError:\n",
    "        #     print(\"Must be an List or Array type\")\n",
    "        # except:\n",
    "        #     print(\"Something else went wrong please review the Call Stack\")\n",
    "    @table.deleter\n",
    "    def table():\n",
    "        del self._table\n",
    "\n",
    "    def deleteRow(self, index):\n",
    "        self._table.drop(index)\n",
    "\n",
    "\n",
    "\n"
   ],
   "metadata": {
    "collapsed": false
   }
  },
  {
   "cell_type": "code",
   "execution_count": 174,
   "outputs": [
    {
     "name": "stdout",
     "output_type": "stream",
     "text": [
      "prev 0.0\n",
      "table length 1\n",
      "row -350\n",
      "prev 0.0\n",
      "futureBal -350.0\n",
      "********************************************\n",
      "row: [datetime.date(2022, 12, 23), 0.0, -350, -350.0, 'This is great']\n",
      "prev -350.0\n",
      "table length 2\n",
      "row 250\n",
      "prev -350.0\n",
      "futureBal -100.0\n",
      "********************************************\n",
      "row: [datetime.date(2022, 12, 23), 250, 0.0, -100.0, 'This is great']\n",
      "prev -100.0\n",
      "table length 3\n",
      "row 250\n",
      "prev -100.0\n",
      "futureBal 150.0\n",
      "********************************************\n",
      "row: [datetime.date(2022, 12, 23), 250, 0.0, 150.0, 'This is great']\n"
     ]
    },
    {
     "data": {
      "text/plain": "         Date  Debit  Credit  Balance    Description\n0                0.0     0.0      0.0               \n1  2022-12-23    0.0  -350.0   -350.0  This is great\n2  2022-12-23  250.0     0.0   -100.0  This is great\n3  2022-12-23  250.0     0.0    150.0  This is great",
      "text/html": "<div>\n<style scoped>\n    .dataframe tbody tr th:only-of-type {\n        vertical-align: middle;\n    }\n\n    .dataframe tbody tr th {\n        vertical-align: top;\n    }\n\n    .dataframe thead th {\n        text-align: right;\n    }\n</style>\n<table border=\"1\" class=\"dataframe\">\n  <thead>\n    <tr style=\"text-align: right;\">\n      <th></th>\n      <th>Date</th>\n      <th>Debit</th>\n      <th>Credit</th>\n      <th>Balance</th>\n      <th>Description</th>\n    </tr>\n  </thead>\n  <tbody>\n    <tr>\n      <th>0</th>\n      <td></td>\n      <td>0.0</td>\n      <td>0.0</td>\n      <td>0.0</td>\n      <td></td>\n    </tr>\n    <tr>\n      <th>1</th>\n      <td>2022-12-23</td>\n      <td>0.0</td>\n      <td>-350.0</td>\n      <td>-350.0</td>\n      <td>This is great</td>\n    </tr>\n    <tr>\n      <th>2</th>\n      <td>2022-12-23</td>\n      <td>250.0</td>\n      <td>0.0</td>\n      <td>-100.0</td>\n      <td>This is great</td>\n    </tr>\n    <tr>\n      <th>3</th>\n      <td>2022-12-23</td>\n      <td>250.0</td>\n      <td>0.0</td>\n      <td>150.0</td>\n      <td>This is great</td>\n    </tr>\n  </tbody>\n</table>\n</div>"
     },
     "execution_count": 174,
     "metadata": {},
     "output_type": "execute_result"
    }
   ],
   "source": [
    "import datetime\n",
    "Darrel = User(\"Darrel\")\n",
    "now = datetime.date.today()\n",
    "#Darrel._table = \"print\"\n",
    "#Darrel._table = [now,-350,\"This is great\"]\n",
    "#Darrel.table([now,-350,\"This is great\"])\n",
    "Darrel.table\n",
    "Darrel.table = [now,-350,\"This is great\"]\n",
    "Darrel.table = [now,250,\"This is great\"]\n",
    "Darrel.table = [now,250,\"This is great\"]\n",
    "Darrel.table"
   ],
   "metadata": {
    "collapsed": false
   }
  },
  {
   "cell_type": "code",
   "execution_count": 72,
   "outputs": [],
   "source": [
    "import datetime\n",
    "now = datetime.date.today()\n",
    "Claudia.table = [now,-350,\"This is great\"]"
   ],
   "metadata": {
    "collapsed": false
   }
  },
  {
   "cell_type": "code",
   "execution_count": 66,
   "outputs": [],
   "source": [
    "import datetime\n",
    "table = pd.DataFrame(columns=['Date'\n",
    "                                          ,'Debit'\n",
    "                                          ,'Credit'\n",
    "                                          ,'Balance',\n",
    "                                           'Description'])"
   ],
   "metadata": {
    "collapsed": false
   }
  },
  {
   "cell_type": "code",
   "execution_count": 131,
   "outputs": [],
   "source": [
    "import datetime\n",
    "table.loc[len(table.index)] = [datetime.date.today(), 20.00, 40.00, 50.00,\"great\"]"
   ],
   "metadata": {
    "collapsed": false
   }
  },
  {
   "cell_type": "code",
   "execution_count": 26,
   "outputs": [
    {
     "data": {
      "text/plain": "1"
     },
     "execution_count": 26,
     "metadata": {},
     "output_type": "execute_result"
    }
   ],
   "source": [
    "len(table.index)"
   ],
   "metadata": {
    "collapsed": false
   }
  },
  {
   "cell_type": "code",
   "execution_count": 76,
   "outputs": [
    {
     "data": {
      "text/plain": "Index(['Date', 'Debit', 'Credit', 'Balance', 'Description'], dtype='object')"
     },
     "execution_count": 76,
     "metadata": {},
     "output_type": "execute_result"
    }
   ],
   "source": [
    "Claudia._table.columns"
   ],
   "metadata": {
    "collapsed": false
   }
  },
  {
   "cell_type": "code",
   "execution_count": 64,
   "outputs": [
    {
     "ename": "AttributeError",
     "evalue": "'list' object has no attribute 'columns'",
     "output_type": "error",
     "traceback": [
      "\u001B[0;31m---------------------------------------------------------------------------\u001B[0m",
      "\u001B[0;31mAttributeError\u001B[0m                            Traceback (most recent call last)",
      "\u001B[0;32m<ipython-input-64-8d17d824c39f>\u001B[0m in \u001B[0;36m<module>\u001B[0;34m\u001B[0m\n\u001B[0;32m----> 1\u001B[0;31m \u001B[0mClaudia\u001B[0m\u001B[0;34m.\u001B[0m\u001B[0mtable\u001B[0m\u001B[0;34m.\u001B[0m\u001B[0mcolumns\u001B[0m\u001B[0;34m\u001B[0m\u001B[0;34m\u001B[0m\u001B[0m\n\u001B[0m",
      "\u001B[0;31mAttributeError\u001B[0m: 'list' object has no attribute 'columns'"
     ]
    }
   ],
   "source": [
    "Claudia.table.columns"
   ],
   "metadata": {
    "collapsed": false
   }
  },
  {
   "cell_type": "code",
   "execution_count": 34,
   "outputs": [],
   "source": [
    "a.insert(2, 3)"
   ],
   "metadata": {
    "collapsed": false
   }
  },
  {
   "cell_type": "code",
   "execution_count": 35,
   "outputs": [
    {
     "data": {
      "text/plain": "[1, 2, 3, 4, 5]"
     },
     "execution_count": 35,
     "metadata": {},
     "output_type": "execute_result"
    }
   ],
   "source": [
    "a"
   ],
   "metadata": {
    "collapsed": false
   }
  },
  {
   "cell_type": "code",
   "execution_count": 42,
   "outputs": [
    {
     "data": {
      "text/plain": "         Date  Debit  Credit  Balance Description\n0  2022-12-23   20.0    40.0     50.0       great",
      "text/html": "<div>\n<style scoped>\n    .dataframe tbody tr th:only-of-type {\n        vertical-align: middle;\n    }\n\n    .dataframe tbody tr th {\n        vertical-align: top;\n    }\n\n    .dataframe thead th {\n        text-align: right;\n    }\n</style>\n<table border=\"1\" class=\"dataframe\">\n  <thead>\n    <tr style=\"text-align: right;\">\n      <th></th>\n      <th>Date</th>\n      <th>Debit</th>\n      <th>Credit</th>\n      <th>Balance</th>\n      <th>Description</th>\n    </tr>\n  </thead>\n  <tbody>\n    <tr>\n      <th>0</th>\n      <td>2022-12-23</td>\n      <td>20.0</td>\n      <td>40.0</td>\n      <td>50.0</td>\n      <td>great</td>\n    </tr>\n  </tbody>\n</table>\n</div>"
     },
     "execution_count": 42,
     "metadata": {},
     "output_type": "execute_result"
    }
   ],
   "source": [
    "table"
   ],
   "metadata": {
    "collapsed": false
   }
  },
  {
   "cell_type": "code",
   "execution_count": 115,
   "outputs": [],
   "source": [
    "table = pd.DataFrame(columns=['Date'\n",
    "                                          ,'Debit'\n",
    "                                          ,'Credit'\n",
    "                                          ,'Balance',\n",
    "                                           'Description'])"
   ],
   "metadata": {
    "collapsed": false
   }
  },
  {
   "cell_type": "code",
   "execution_count": 117,
   "outputs": [
    {
     "data": {
      "text/plain": "0"
     },
     "execution_count": 117,
     "metadata": {},
     "output_type": "execute_result"
    }
   ],
   "source": [
    "len(table.index)"
   ],
   "metadata": {
    "collapsed": false
   }
  },
  {
   "cell_type": "code",
   "execution_count": 132,
   "outputs": [
    {
     "data": {
      "text/plain": "0.0"
     },
     "execution_count": 132,
     "metadata": {},
     "output_type": "execute_result"
    }
   ],
   "source": [
    "table.loc[len(table.index), \"Balance\"] if len(table.index) == 0 else 0.00"
   ],
   "metadata": {
    "collapsed": false
   }
  },
  {
   "cell_type": "code",
   "execution_count": null,
   "outputs": [],
   "source": [
    "table.loc[len(table.index), \"Balance\"] if len(table.index) == 0 else 0.0"
   ],
   "metadata": {
    "collapsed": false
   }
  },
  {
   "cell_type": "code",
   "execution_count": 5,
   "outputs": [],
   "source": [
    "def sample(*args):\n",
    "    for key,value in args:\n",
    "        print(key)\n",
    "        print(value)"
   ],
   "metadata": {
    "collapsed": false
   }
  },
  {
   "cell_type": "code",
   "execution_count": 6,
   "outputs": [
    {
     "name": "stdout",
     "output_type": "stream",
     "text": [
      "Darrel\n",
      "0.25\n",
      "Tony\n",
      "0.35\n"
     ]
    }
   ],
   "source": [
    "sample((\"Darrel\",0.25), (\"Tony\", 0.35))"
   ],
   "metadata": {
    "collapsed": false
   }
  },
  {
   "cell_type": "code",
   "execution_count": null,
   "outputs": [],
   "source": [],
   "metadata": {
    "collapsed": false
   }
  }
 ],
 "metadata": {
  "kernelspec": {
   "display_name": "Python 3",
   "language": "python",
   "name": "python3"
  },
  "language_info": {
   "codemirror_mode": {
    "name": "ipython",
    "version": 2
   },
   "file_extension": ".py",
   "mimetype": "text/x-python",
   "name": "python",
   "nbconvert_exporter": "python",
   "pygments_lexer": "ipython2",
   "version": "2.7.6"
  }
 },
 "nbformat": 4,
 "nbformat_minor": 0
}
